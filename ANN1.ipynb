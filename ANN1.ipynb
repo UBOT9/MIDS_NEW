{
 "cells": [
  {
   "cell_type": "code",
   "execution_count": null,
   "id": "78a06d79",
   "metadata": {},
   "outputs": [],
   "source": [
    "pip install tensorflow"
   ]
  },
  {
   "cell_type": "code",
   "execution_count": null,
   "id": "589ac65a",
   "metadata": {},
   "outputs": [],
   "source": [
    "#Sigmoid Function and Vanishing Gradient\n",
    "import tensorflow as tf\n",
    "from tensorflow.keras.activations import sigmoid\n",
    "\n",
    "input_array = tf.constant([-1, 0, 1], dtype=tf.float32)\n",
    "print (sigmoid(input_array))"
   ]
  },
  {
   "cell_type": "code",
   "execution_count": null,
   "id": "56e2fe19",
   "metadata": {},
   "outputs": [],
   "source": [
    "#Hyperbolic Tangent Function\n",
    "import tensorflow as tf\n",
    "from tensorflow.keras.activations import tanh\n",
    "\n",
    "input_array = tf.constant([-1, 0, 1], dtype=tf.float32)\n",
    "print (tanh(input_array))"
   ]
  },
  {
   "cell_type": "code",
   "execution_count": null,
   "id": "344c6f61",
   "metadata": {},
   "outputs": [],
   "source": [
    "# Rectified Linear Unit (ReLU)\n",
    "import tensorflow as tf\n",
    "from tensorflow.keras.activations import relu\n",
    "\n",
    "input_array = tf.constant([-1, 0, 1], dtype=tf.float32)\n",
    "print (relu(input_array))"
   ]
  },
  {
   "cell_type": "code",
   "execution_count": 1,
   "id": "60283cad",
   "metadata": {},
   "outputs": [
    {
     "name": "stdout",
     "output_type": "stream",
     "text": [
      "hi\n"
     ]
    }
   ],
   "source": []
  },
  {
   "cell_type": "code",
   "execution_count": null,
   "id": "af294c48",
   "metadata": {},
   "outputs": [],
   "source": []
  }
 ],
 "metadata": {
  "kernelspec": {
   "display_name": "Python 3 (ipykernel)",
   "language": "python",
   "name": "python3"
  },
  "language_info": {
   "codemirror_mode": {
    "name": "ipython",
    "version": 3
   },
   "file_extension": ".py",
   "mimetype": "text/x-python",
   "name": "python",
   "nbconvert_exporter": "python",
   "pygments_lexer": "ipython3",
   "version": "3.11.4"
  }
 },
 "nbformat": 4,
 "nbformat_minor": 5
}
